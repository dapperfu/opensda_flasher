{
 "cells": [
  {
   "cell_type": "markdown",
   "metadata": {},
   "source": [
    "# OpenSDA Flasher\n",
    "\n",
    "A short script to program NXP OpenSDA v1 PPC devices from the command line with Python.\n",
    "\n",
    "Most of this was discovered through trial and error watching the S32 Design Studio debug messages fly by. If you have any problems [open an issue](https://github.com/jed-frey/opensda_flasher/issues).\n",
    "\n",
    "Tested on:\n",
    "\n",
    "- [DEVKIT-MPC5744P](https://www.nxp.com/products/microcontrollers-and-processors/power-architecture-processors/mpc5xxx-55xx-32-bit-mcus/ultra-reliable-mpc57xx-32-bit-automotive-industrial-microcontrollers-mcus/development-board-for-mpc5744p:DEVKIT-MPC5744P)\n",
    "- com.pemicro.debug.gdbjtag.ppc_1.6.9.201706282002 Eclipse Plugin\n",
    "- Python 3.6 (Should work on all versions)."
   ]
  },
  {
   "cell_type": "markdown",
   "metadata": {},
   "source": [
    "## Use Cases:\n",
    "\n",
    "- Continuous integration tests.\n",
    "- Flashing development boards without having to launch Eclipse.\n",
    "- Batch flash boards for Educational use without needing an expensive JTAG adapter. (Least expensive PPC JTAG board is \\$399. These boards are ~\\$35.)"
   ]
  },
  {
   "cell_type": "markdown",
   "metadata": {},
   "source": [
    "## Installation\n",
    "\n",
    "Install with pip directly from GitHub:\n",
    "\n",
    "    pip install git+https://github.com/jed-frey/opensda_flasher.git#egg=opensda_flasher\n",
    "\n",
    "Clone the repository and install locally:\n",
    "\n",
    "    git clone https://github.com/jed-frey/opensda_flasher.git\n",
    "    cd opensda_flasher\n",
    "    python setup.py install"
   ]
  },
  {
   "cell_type": "markdown",
   "metadata": {},
   "source": [
    "### Help:\n",
    "\n",
    "    osf\n",
    "    Usage: osf [OPTIONS] COMMAND [ARGS]...\n",
    "\n",
    "      opensda flasher (osf) is a tool to programatically flash NXP DEVKIT-\n",
    "      MPC57xx boards.\n",
    "\n",
    "    Options:\n",
    "      -c, --config TEXT  Configuration File\n",
    "      --help             Show this message and exit.\n",
    "\n",
    "    Commands:\n",
    "      debug  Debug specified ELF files in RAM\n",
    "      flash  Flash specified ELF files.\n",
    "      init   Initialize an empty config file.\n",
    "      kill   Kill existing running servers."
   ]
  },
  {
   "cell_type": "markdown",
   "metadata": {},
   "source": [
    "## Examples:"
   ]
  },
  {
   "cell_type": "markdown",
   "metadata": {},
   "source": [
    "The default configuration assumes S32DS is installed at ```C:\\NXP\\S32DS_Power_v1.2``` and PEMicro Debug Plugin ```com.pemicro.debug.gdbjtag.ppc_1.6.9.201706282002```. The Eclipse workspace is ```C:\\NXP\\workspaceS32DS.Power12```\n",
    "\n",
    "The examples are using the ADC_MPC5744P project which can be created as follows:\n",
    "\n",
    "S32 Design Studio for Power Architecture > File > New > New S32DS Project From Example > S32DS Example Projects > MPC5744P > ADC_MPC5744P\n",
    "\n",
    "\n",
    "1. Program an elf to the device flash:\n",
    "\n",
    "  ```opensda_flasher flash C:\\NXP\\workspaceS32DS.Power12\\ADC_MPC5744P\\Debug\\ADC_MPC5744P.elf```\n",
    "\n",
    "2. Program an elf to the device RAM:\n",
    "\n",
    "  ```opensda_flasher debug C:\\NXP\\workspaceS32DS.Power12\\ADC_MPC5744P\\Debug_RAM\\ADC_MPC5744P.elf```\n",
    " \n",
    "3. Create a local init. This can be used to customize the settings. By default this is saved to ```osf.ini```\n",
    "\n",
    "  ```opensda_flasher init```\n",
    "  \n",
    "4. Program an elf to the device flash with local config settings. **osf** may be used interchangeably with **opensda_flasher**\n",
    "\n",
    "  ```osf --config osf.ini flash C:\\NXP\\workspaceS32DS.Power12\\ADC_MPC5744P\\Debug\\ADC_MPC5744P.elf```\n",
    "  \n",
    "5. Create a custom local init. The elf files can also be stored in the init.\n",
    "\n",
    "  ```osf --config=adc.ini init C:\\NXP\\workspaceS32DS.Power12\\ADC_MPC5744P\\Debug\\ADC_MPC5744P.elf```\n",
    "  \n",
    "  Then use the config to flash the elf.\n",
    "  \n",
    "  ```osf --config=adc.ini flash```"
   ]
  },
  {
   "cell_type": "markdown",
   "metadata": {},
   "source": [
    "If you run osf and receive this error:\n",
    "\n",
    "    Exception: Server exited immediately. Is another C:\\NXP\\S32DS_Power_v1.2\\eclipse\\plugins\\com.pemicro.debug.gdbjtag.ppc_1.6.9.201706282002\\win32\\pegdbserver_power_console.exe instance running?\n",
    "    \n",
    "There is probably a gdbserver already running. You can kill existing servers with:\n",
    "\n",
    "    osf kill"
   ]
  },
  {
   "cell_type": "markdown",
   "metadata": {},
   "source": [
    "## Programmatic Use\n",
    "\n",
    "The Python module can also be used programmatically in a Python script."
   ]
  },
  {
   "cell_type": "code",
   "execution_count": 25,
   "metadata": {
    "collapsed": true
   },
   "outputs": [],
   "source": [
    "from opensda_flasher.client import Client\n",
    "from opensda_flasher.server import Server\n",
    "from opensda_flasher.config import read_config"
   ]
  },
  {
   "cell_type": "code",
   "execution_count": 26,
   "metadata": {
    "collapsed": true
   },
   "outputs": [],
   "source": [
    "config = read_config('adc.ini')"
   ]
  },
  {
   "cell_type": "code",
   "execution_count": 27,
   "metadata": {},
   "outputs": [
    {
     "name": "stdout",
     "output_type": "stream",
     "text": [
      "Waiting for GDB servers to complete startup ...... Done\n"
     ]
    }
   ],
   "source": [
    "s = Server(config)\n",
    "s.launch()"
   ]
  },
  {
   "cell_type": "code",
   "execution_count": 28,
   "metadata": {},
   "outputs": [],
   "source": [
    "c = Client(config)"
   ]
  },
  {
   "cell_type": "code",
   "execution_count": 29,
   "metadata": {},
   "outputs": [
    {
     "name": "stdout",
     "output_type": "stream",
     "text": [
      "DEBUG: C:\\Users\\C3038028\\AppData\\Local\\Temp\\gdb_h0v0fvs5.txt\n",
      "Waiting for GDB client to flash ...... Done\n",
      "GNU gdb (GDB) 7.8.2\n",
      "Copyright (C) 2014 Free Software Foundation, Inc.\n",
      "License GPLv3+: GNU GPL version 3 or later <http://gnu.org/licenses/gpl.html>\n",
      "This is free software: you are free to change and redistribute it.\n",
      "There is NO WARRANTY, to the extent permitted by law.  Type \"show copying\"\n",
      "and \"show warranty\" for details.\n",
      "This GDB was configured as \"--host=i686-mingw32 --target=powerpc-eabivle\".\n",
      "Type \"show configuration\" for configuration details.\n",
      "For bug reporting instructions, please see:\n",
      "<http://www.gnu.org/software/gdb/bugs/>.\n",
      "Find the GDB manual and other documentation resources online at:\n",
      "<http://www.gnu.org/software/gdb/documentation/>.\n",
      "For help, type \"help\".\n",
      "Type \"apropos word\" to search for commands related to \"word\".\n",
      "0x01000000 in ?? ()\n",
      "Command Executed successfully: preserve1 0\n",
      "Command Executed successfully: selectcore 0\n",
      "The target architecture is assumed to be powerpc:vle\n",
      "Loading section .rchw, size 0x4 lma 0xfa0000\n",
      "Loading section .cpu0_reset_vector, size 0x4 lma 0xfa0004\n",
      "Loading section .startup, size 0x1fe lma 0x1000000\n",
      "Loading section .core_exceptions_table, size 0xf4 lma 0x1001000\n",
      "Loading section .intc_vector_table, size 0xb78 lma 0x1002000\n",
      "Loading section .text, size 0x7d0 lma 0x1002b80\n",
      "Loading section .ctors, size 0x8 lma 0x1003350\n",
      "Loading section .dtors, size 0x8 lma 0x1003358\n",
      "Loading section .eh_frame, size 0x8 lma 0x1003360\n",
      "Loading section .data, size 0x4 lma 0x1003368\n",
      "Loading section .got2, size 0x1c lma 0x100336c\n",
      "Start address 0x1000000, load size 5754\n",
      "Transfer rate: 549 bytes/sec, 411 bytes/write.\n",
      "Command Executed successfully: _reset\n",
      "A debugging session is active.\n",
      "\n",
      "\tInferior 1 [Remote target] will be detached.\n",
      "\n",
      "Quit anyway? (y or n) [answered Y; input not from terminal]\n",
      "\n"
     ]
    }
   ],
   "source": [
    "elfs = [r\"C:\\NXP\\workspaceS32DS.Power12\\ADC_MPC5744P\\Debug\\ADC_MPC5744P.elf\",]\n",
    "c.flash(elfs)"
   ]
  },
  {
   "cell_type": "code",
   "execution_count": 30,
   "metadata": {
    "collapsed": true
   },
   "outputs": [],
   "source": [
    "s.kill()"
   ]
  },
  {
   "cell_type": "markdown",
   "metadata": {},
   "source": [
    "# Contributing\n",
    "\n",
    "Contributions welcome."
   ]
  },
  {
   "cell_type": "code",
   "execution_count": null,
   "metadata": {
    "collapsed": true
   },
   "outputs": [],
   "source": []
  }
 ],
 "metadata": {
  "kernelspec": {
   "display_name": "Python 3",
   "language": "python",
   "name": "python3"
  },
  "language_info": {
   "codemirror_mode": {
    "name": "ipython",
    "version": 3
   },
   "file_extension": ".py",
   "mimetype": "text/x-python",
   "name": "python",
   "nbconvert_exporter": "python",
   "pygments_lexer": "ipython3",
   "version": "3.6.1"
  }
 },
 "nbformat": 4,
 "nbformat_minor": 2
}
