{
 "cells": [
  {
   "cell_type": "markdown",
   "metadata": {},
   "source": [
    "# Development Notebook\n",
    "\n",
    "I use Jupyter Notebooks as my REPL IDE. I live in [Matlab Code Run](https://www.mathworks.com/help/matlab/matlab_prog/run-sections-of-programs.html) sections. This is the closest I've found."
   ]
  },
  {
   "cell_type": "code",
   "execution_count": 1,
   "metadata": {},
   "outputs": [],
   "source": [
    "from opensda_flasher import *"
   ]
  },
  {
   "cell_type": "code",
   "execution_count": 2,
   "metadata": {},
   "outputs": [],
   "source": [
    "from opensda_flasher import config"
   ]
  },
  {
   "cell_type": "code",
   "execution_count": 3,
   "metadata": {},
   "outputs": [],
   "source": [
    "config = config.read_config()"
   ]
  },
  {
   "cell_type": "code",
   "execution_count": 6,
   "metadata": {},
   "outputs": [],
   "source": [
    "def as_dict(config):\n",
    "    \"\"\"\n",
    "    Converts a ConfigParser object into a dictionary.\n",
    "\n",
    "    The resulting dictionary has sections as keys which point to a dict of the\n",
    "    sections options as key => value pairs.\n",
    "    \"\"\"\n",
    "    the_dict = {}\n",
    "    for section in config.sections():\n",
    "        the_dict[section] = {}\n",
    "        for key, val in config.items(section):\n",
    "            the_dict[section][key] = val\n",
    "    return the_dict"
   ]
  },
  {
   "cell_type": "code",
   "execution_count": 7,
   "metadata": {},
   "outputs": [
    {
     "data": {
      "text/plain": [
       "{'CLIENT': {'exe': 'powerpc-eabivle-gdb.exe',\n",
       "  'platform': 'powerpc-eabivle-4_9'},\n",
       " 'S32': {'root': 'C:\\\\NXP\\\\S32DS_Power_v1.2'},\n",
       " 'SERVER': {'device': 'MPC5744P',\n",
       "  'exe': 'pegdbserver_power_console.exe',\n",
       "  'platform': 'win32',\n",
       "  'plugin': 'com.pemicro.debug.gdbjtag.ppc_1.6.9.201706282002',\n",
       "  'port': 'USB1',\n",
       "  'serverport': '7224',\n",
       "  'speed': '5000'}}"
      ]
     },
     "execution_count": 7,
     "metadata": {},
     "output_type": "execute_result"
    }
   ],
   "source": [
    "as_dict(config)"
   ]
  },
  {
   "cell_type": "code",
   "execution_count": 9,
   "metadata": {},
   "outputs": [],
   "source": [
    "config[\"SERVER\"][\"DEVICE\"]=\"MPC5748G\""
   ]
  },
  {
   "cell_type": "code",
   "execution_count": 10,
   "metadata": {},
   "outputs": [],
   "source": [
    "s = Server(config)"
   ]
  },
  {
   "cell_type": "code",
   "execution_count": 12,
   "metadata": {},
   "outputs": [
    {
     "data": {
      "text/plain": [
       "['C:\\\\NXP\\\\S32DS_Power_v1.2\\\\eclipse\\\\plugins\\\\com.pemicro.debug.gdbjtag.ppc_1.6.9.201706282002\\\\win32\\\\pegdbserver_power_console.exe',\n",
       " '-startserver',\n",
       " '-singlesession',\n",
       " '-interface=OPENSDA',\n",
       " '-device=MPC5748G',\n",
       " '-serverport=7224',\n",
       " '-speed=5000',\n",
       " '-port=USB1']"
      ]
     },
     "execution_count": 12,
     "metadata": {},
     "output_type": "execute_result"
    }
   ],
   "source": [
    "s.cmd"
   ]
  },
  {
   "cell_type": "code",
   "execution_count": 14,
   "metadata": {},
   "outputs": [
    {
     "name": "stdout",
     "output_type": "stream",
     "text": [
      "C:\\NXP\\S32DS_Power_v1.2\\eclipse\\plugins\\com.pemicro.debug.gdbjtag.ppc_1.6.9.201706282002\\win32\\pegdbserver_power_console.exe -startserver -singlesession -interface=OPENSDA -device=MPC5748G -serverport=7224 -speed=5000 -port=USB1\n"
     ]
    }
   ],
   "source": [
    "print(\" \".join(s.cmd))"
   ]
  },
  {
   "cell_type": "code",
   "execution_count": 16,
   "metadata": {},
   "outputs": [],
   "source": [
    "c = Client(config=config)"
   ]
  },
  {
   "cell_type": "code",
   "execution_count": 17,
   "metadata": {},
   "outputs": [
    {
     "data": {
      "text/plain": [
       "['C:\\\\NXP\\\\S32DS_Power_v1.2\\\\Cross_Tools\\\\powerpc-eabivle-4_9\\\\bin\\\\powerpc-eabivle-gdb.exe',\n",
       " '--nx',\n",
       " '--command=C:\\\\Users\\\\C3038028\\\\AppData\\\\Local\\\\Temp\\\\gdb_e6kuydt5.txt']"
      ]
     },
     "execution_count": 17,
     "metadata": {},
     "output_type": "execute_result"
    }
   ],
   "source": [
    "c.cmd"
   ]
  },
  {
   "cell_type": "code",
   "execution_count": 21,
   "metadata": {},
   "outputs": [
    {
     "name": "stdout",
     "output_type": "stream",
     "text": [
      "target remote 127.0.0.1:{{ port }}\n",
      "\n",
      "set mem inaccessible-by-default off\n",
      "set tcp auto-retry on\n",
      "set tcp connect-timeout 240\n",
      "set remotetimeout 60\n",
      "\n",
      "monitor preserve1 0\n",
      "monitor selectcore 0\n",
      "\n",
      "set architecture powerpc:vle\n",
      "\n",
      "{%- for elf in elfs %}\n",
      "load \"{{ elf }}\"\n",
      "{%- endfor %}\n",
      "\n",
      "{%-if debug %}\n",
      "continue\n",
      "{% else %}\n",
      "monitor _reset\n",
      "quit\n",
      "{% endif %}\n",
      "\n"
     ]
    }
   ],
   "source": [
    "print(c.template_str)"
   ]
  },
  {
   "cell_type": "code",
   "execution_count": 23,
   "metadata": {},
   "outputs": [],
   "source": [
    "elfs = [r\"C:\\projects\\opensda_flasher\\Golden_Binaries\\ADC_MPC5748G\\adc_Z4_1\\Debug\\adc_Z4_1.elf\"]"
   ]
  },
  {
   "cell_type": "code",
   "execution_count": 24,
   "metadata": {},
   "outputs": [
    {
     "name": "stdout",
     "output_type": "stream",
     "text": [
      "DEBUG: C:\\Users\\C3038028\\AppData\\Local\\Temp\\gdb_e6kuydt5.txt\n"
     ]
    }
   ],
   "source": [
    "c.render(elfs)"
   ]
  },
  {
   "cell_type": "code",
   "execution_count": null,
   "metadata": {},
   "outputs": [],
   "source": [
    "# %load C:\\Users\\C3038028\\AppData\\Local\\Temp\\gdb_e6kuydt5.txt\n",
    "target remote 127.0.0.1:7224\n",
    "\n",
    "set mem inaccessible-by-default off\n",
    "set tcp auto-retry on\n",
    "set tcp connect-timeout 240\n",
    "set remotetimeout 240\n",
    "\n",
    "monitor preserve1 0\n",
    "monitor selectcore 0\n",
    "\n",
    "set architecture powerpc:vle\n",
    "load \"C:\\\\projects\\\\opensda_flasher\\\\Golden_Binaries\\\\ADC_MPC5748G\\\\adc_Z4_1\\\\Debug\\\\adc_Z4_1.elf\"\n",
    "monitor _reset\n",
    "quit\n",
    "\n"
   ]
  },
  {
   "cell_type": "code",
   "execution_count": 30,
   "metadata": {},
   "outputs": [
    {
     "name": "stdout",
     "output_type": "stream",
     "text": [
      "C:\\NXP\\S32DS_Power_v1.2\\Cross_Tools\\powerpc-eabivle-4_9\\bin\\powerpc-eabivle-gdb.exe\n"
     ]
    }
   ],
   "source": [
    "print(c.cmd[0])"
   ]
  },
  {
   "cell_type": "code",
   "execution_count": null,
   "metadata": {},
   "outputs": [],
   "source": []
  }
 ],
 "metadata": {
  "kernelspec": {
   "display_name": "Python 3",
   "language": "python",
   "name": "python3"
  },
  "language_info": {
   "codemirror_mode": {
    "name": "ipython",
    "version": 3
   },
   "file_extension": ".py",
   "mimetype": "text/x-python",
   "name": "python",
   "nbconvert_exporter": "python",
   "pygments_lexer": "ipython3",
   "version": "3.6.2"
  }
 },
 "nbformat": 4,
 "nbformat_minor": 2
}
