{
 "cells": [
  {
   "cell_type": "markdown",
   "metadata": {},
   "source": [
    "# Development Notebook"
   ]
  },
  {
   "cell_type": "code",
   "execution_count": 1,
   "metadata": {},
   "outputs": [],
   "source": [
    "from opensda_flasher import *"
   ]
  },
  {
   "cell_type": "code",
   "execution_count": 98,
   "metadata": {},
   "outputs": [],
   "source": [
    "from opensda_flasher.config import read_config"
   ]
  },
  {
   "cell_type": "code",
   "execution_count": 3,
   "metadata": {},
   "outputs": [],
   "source": [
    "config = read_config()"
   ]
  },
  {
   "cell_type": "code",
   "execution_count": 6,
   "metadata": {},
   "outputs": [],
   "source": [
    "def as_dict(config):\n",
    "    \"\"\"\n",
    "    Converts a ConfigParser object into a dictionary.\n",
    "\n",
    "    The resulting dictionary has sections as keys which point to a dict of the\n",
    "    sections options as key => value pairs.\n",
    "    \"\"\"\n",
    "    the_dict = {}\n",
    "    for section in config.sections():\n",
    "        the_dict[section] = {}\n",
    "        for key, val in config.items(section):\n",
    "            the_dict[section][key] = val\n",
    "    return the_dict"
   ]
  },
  {
   "cell_type": "code",
   "execution_count": 7,
   "metadata": {},
   "outputs": [
    {
     "data": {
      "text/plain": [
       "{'CLIENT': {'exe': 'powerpc-eabivle-gdb.exe',\n",
       "  'platform': 'powerpc-eabivle-4_9'},\n",
       " 'S32': {'root': 'C:\\\\NXP\\\\S32DS_Power_v1.2'},\n",
       " 'SERVER': {'device': 'MPC5744P',\n",
       "  'exe': 'pegdbserver_power_console.exe',\n",
       "  'platform': 'win32',\n",
       "  'plugin': 'com.pemicro.debug.gdbjtag.ppc_1.6.9.201706282002',\n",
       "  'port': 'USB1',\n",
       "  'serverport': '7224',\n",
       "  'speed': '5000'}}"
      ]
     },
     "execution_count": 7,
     "metadata": {},
     "output_type": "execute_result"
    }
   ],
   "source": [
    "as_dict(config)"
   ]
  },
  {
   "cell_type": "code",
   "execution_count": 9,
   "metadata": {},
   "outputs": [],
   "source": [
    "config[\"SERVER\"][\"DEVICE\"]=\"MPC5748G\""
   ]
  },
  {
   "cell_type": "code",
   "execution_count": 10,
   "metadata": {},
   "outputs": [],
   "source": [
    "s = Server(config)"
   ]
  },
  {
   "cell_type": "code",
   "execution_count": 12,
   "metadata": {},
   "outputs": [
    {
     "data": {
      "text/plain": [
       "['C:\\\\NXP\\\\S32DS_Power_v1.2\\\\eclipse\\\\plugins\\\\com.pemicro.debug.gdbjtag.ppc_1.6.9.201706282002\\\\win32\\\\pegdbserver_power_console.exe',\n",
       " '-startserver',\n",
       " '-singlesession',\n",
       " '-interface=OPENSDA',\n",
       " '-device=MPC5748G',\n",
       " '-serverport=7224',\n",
       " '-speed=5000',\n",
       " '-port=USB1']"
      ]
     },
     "execution_count": 12,
     "metadata": {},
     "output_type": "execute_result"
    }
   ],
   "source": [
    "s.cmd"
   ]
  },
  {
   "cell_type": "code",
   "execution_count": 14,
   "metadata": {},
   "outputs": [
    {
     "name": "stdout",
     "output_type": "stream",
     "text": [
      "C:\\NXP\\S32DS_Power_v1.2\\eclipse\\plugins\\com.pemicro.debug.gdbjtag.ppc_1.6.9.201706282002\\win32\\pegdbserver_power_console.exe -startserver -singlesession -interface=OPENSDA -device=MPC5748G -serverport=7224 -speed=5000 -port=USB1\n"
     ]
    }
   ],
   "source": [
    "print(\" \".join(s.cmd))"
   ]
  },
  {
   "cell_type": "code",
   "execution_count": 16,
   "metadata": {},
   "outputs": [],
   "source": [
    "c = Client(config=config)"
   ]
  },
  {
   "cell_type": "code",
   "execution_count": 17,
   "metadata": {},
   "outputs": [
    {
     "data": {
      "text/plain": [
       "['C:\\\\NXP\\\\S32DS_Power_v1.2\\\\Cross_Tools\\\\powerpc-eabivle-4_9\\\\bin\\\\powerpc-eabivle-gdb.exe',\n",
       " '--nx',\n",
       " '--command=C:\\\\Users\\\\C3038028\\\\AppData\\\\Local\\\\Temp\\\\gdb_e6kuydt5.txt']"
      ]
     },
     "execution_count": 17,
     "metadata": {},
     "output_type": "execute_result"
    }
   ],
   "source": [
    "c.cmd"
   ]
  },
  {
   "cell_type": "code",
   "execution_count": 21,
   "metadata": {},
   "outputs": [
    {
     "name": "stdout",
     "output_type": "stream",
     "text": [
      "target remote 127.0.0.1:{{ port }}\n",
      "\n",
      "set mem inaccessible-by-default off\n",
      "set tcp auto-retry on\n",
      "set tcp connect-timeout 240\n",
      "set remotetimeout 60\n",
      "\n",
      "monitor preserve1 0\n",
      "monitor selectcore 0\n",
      "\n",
      "set architecture powerpc:vle\n",
      "\n",
      "{%- for elf in elfs %}\n",
      "load \"{{ elf }}\"\n",
      "{%- endfor %}\n",
      "\n",
      "{%-if debug %}\n",
      "continue\n",
      "{% else %}\n",
      "monitor _reset\n",
      "quit\n",
      "{% endif %}\n",
      "\n"
     ]
    }
   ],
   "source": [
    "print(c.template_str)"
   ]
  },
  {
   "cell_type": "code",
   "execution_count": 23,
   "metadata": {},
   "outputs": [],
   "source": [
    "elfs = [r\"C:\\projects\\opensda_flasher\\Golden_Binaries\\ADC_MPC5748G\\adc_Z4_1\\Debug\\adc_Z4_1.elf\"]"
   ]
  },
  {
   "cell_type": "code",
   "execution_count": 24,
   "metadata": {},
   "outputs": [
    {
     "name": "stdout",
     "output_type": "stream",
     "text": [
      "DEBUG: C:\\Users\\C3038028\\AppData\\Local\\Temp\\gdb_e6kuydt5.txt\n"
     ]
    }
   ],
   "source": [
    "c.render(elfs)"
   ]
  },
  {
   "cell_type": "code",
   "execution_count": null,
   "metadata": {},
   "outputs": [],
   "source": [
    "# %load C:\\Users\\C3038028\\AppData\\Local\\Temp\\gdb_e6kuydt5.txt\n",
    "target remote 127.0.0.1:7224\n",
    "\n",
    "set mem inaccessible-by-default off\n",
    "set tcp auto-retry on\n",
    "set tcp connect-timeout 240\n",
    "set remotetimeout 240\n",
    "\n",
    "monitor preserve1 0\n",
    "monitor selectcore 0\n",
    "\n",
    "set architecture powerpc:vle\n",
    "load \"C:\\\\projects\\\\opensda_flasher\\\\Golden_Binaries\\\\ADC_MPC5748G\\\\adc_Z4_1\\\\Debug\\\\adc_Z4_1.elf\"\n",
    "monitor _reset\n",
    "quit\n",
    "\n"
   ]
  },
  {
   "cell_type": "code",
   "execution_count": 30,
   "metadata": {},
   "outputs": [
    {
     "name": "stdout",
     "output_type": "stream",
     "text": [
      "C:\\NXP\\S32DS_Power_v1.2\\Cross_Tools\\powerpc-eabivle-4_9\\bin\\powerpc-eabivle-gdb.exe\n"
     ]
    }
   ],
   "source": [
    "print(c.cmd[0])"
   ]
  },
  {
   "cell_type": "code",
   "execution_count": 34,
   "metadata": {},
   "outputs": [
    {
     "data": {
      "text/plain": [
       "['C:\\\\NXP\\\\S32DS_Power_v1.2\\\\eclipse\\\\plugins\\\\com.pemicro.debug.gdbjtag.ppc_1.6.9.201706282002\\\\win32\\\\pegdbserver_power_console.exe',\n",
       " '-startserver',\n",
       " '-singlesession',\n",
       " '-interface=OPENSDA',\n",
       " '-device=MPC5748G',\n",
       " '-serverport=7224',\n",
       " '-speed=5000',\n",
       " '-port=USB1']"
      ]
     },
     "execution_count": 34,
     "metadata": {},
     "output_type": "execute_result"
    }
   ],
   "source": [
    "s.cmd"
   ]
  },
  {
   "cell_type": "code",
   "execution_count": 36,
   "metadata": {},
   "outputs": [
    {
     "name": "stdout",
     "output_type": "stream",
     "text": [
      "Waiting for GDB servers to complete startup ...... Done\n"
     ]
    }
   ],
   "source": [
    "s.launch()"
   ]
  },
  {
   "cell_type": "code",
   "execution_count": 37,
   "metadata": {},
   "outputs": [
    {
     "ename": "TypeError",
     "evalue": "'list' object is not callable",
     "output_type": "error",
     "traceback": [
      "\u001b[1;31m---------------------------------------------------------------------------\u001b[0m",
      "\u001b[1;31mTypeError\u001b[0m                                 Traceback (most recent call last)",
      "\u001b[1;32m<ipython-input-37-8ef2253bc8d0>\u001b[0m in \u001b[0;36m<module>\u001b[1;34m()\u001b[0m\n\u001b[1;32m----> 1\u001b[1;33m \u001b[0mc\u001b[0m\u001b[1;33m.\u001b[0m\u001b[0mcmd\u001b[0m\u001b[1;33m(\u001b[0m\u001b[1;33m)\u001b[0m\u001b[1;33m\u001b[0m\u001b[0m\n\u001b[0m",
      "\u001b[1;31mTypeError\u001b[0m: 'list' object is not callable"
     ]
    }
   ],
   "source": [
    "c.cmd()"
   ]
  },
  {
   "cell_type": "code",
   "execution_count": 39,
   "metadata": {},
   "outputs": [
    {
     "name": "stdout",
     "output_type": "stream",
     "text": [
      "DEBUG: C:\\Users\\C3038028\\AppData\\Local\\Temp\\gdb_e6kuydt5.txt\n",
      "Waiting for GDB client to flash ...... Done\n"
     ]
    },
    {
     "ename": "TIMEOUT",
     "evalue": "<pexpect.popen_spawn.PopenSpawn object at 0x000000A71A844748>\nsearcher: searcher_re:\n    0: EOF\n<pexpect.popen_spawn.PopenSpawn object at 0x000000A71A844748>\nsearcher: searcher_re:\n    0: EOF",
     "output_type": "error",
     "traceback": [
      "\u001b[1;31m---------------------------------------------------------------------------\u001b[0m",
      "\u001b[1;31mTIMEOUT\u001b[0m                                   Traceback (most recent call last)",
      "\u001b[1;32mc:\\projects\\opensda_flasher\\.venv\\lib\\site-packages\\pexpect\\expect.py\u001b[0m in \u001b[0;36mexpect_loop\u001b[1;34m(self, timeout)\u001b[0m\n\u001b[0;32m     96\u001b[0m                 \u001b[1;32mif\u001b[0m \u001b[1;33m(\u001b[0m\u001b[0mtimeout\u001b[0m \u001b[1;32mis\u001b[0m \u001b[1;32mnot\u001b[0m \u001b[1;32mNone\u001b[0m\u001b[1;33m)\u001b[0m \u001b[1;32mand\u001b[0m \u001b[1;33m(\u001b[0m\u001b[0mtimeout\u001b[0m \u001b[1;33m<\u001b[0m \u001b[1;36m0\u001b[0m\u001b[1;33m)\u001b[0m\u001b[1;33m:\u001b[0m\u001b[1;33m\u001b[0m\u001b[0m\n\u001b[1;32m---> 97\u001b[1;33m                     \u001b[1;32mreturn\u001b[0m \u001b[0mself\u001b[0m\u001b[1;33m.\u001b[0m\u001b[0mtimeout\u001b[0m\u001b[1;33m(\u001b[0m\u001b[1;33m)\u001b[0m\u001b[1;33m\u001b[0m\u001b[0m\n\u001b[0m\u001b[0;32m     98\u001b[0m                 \u001b[1;31m# Still have time left, so read more data\u001b[0m\u001b[1;33m\u001b[0m\u001b[1;33m\u001b[0m\u001b[0m\n",
      "\u001b[1;32mc:\\projects\\opensda_flasher\\.venv\\lib\\site-packages\\pexpect\\expect.py\u001b[0m in \u001b[0;36mtimeout\u001b[1;34m(self, err)\u001b[0m\n\u001b[0;32m     69\u001b[0m                 \u001b[0mmsg\u001b[0m \u001b[1;33m=\u001b[0m \u001b[0mstr\u001b[0m\u001b[1;33m(\u001b[0m\u001b[0merr\u001b[0m\u001b[1;33m)\u001b[0m \u001b[1;33m+\u001b[0m \u001b[1;34m'\\n'\u001b[0m \u001b[1;33m+\u001b[0m \u001b[0mmsg\u001b[0m\u001b[1;33m\u001b[0m\u001b[0m\n\u001b[1;32m---> 70\u001b[1;33m             \u001b[1;32mraise\u001b[0m \u001b[0mTIMEOUT\u001b[0m\u001b[1;33m(\u001b[0m\u001b[0mmsg\u001b[0m\u001b[1;33m)\u001b[0m\u001b[1;33m\u001b[0m\u001b[0m\n\u001b[0m\u001b[0;32m     71\u001b[0m \u001b[1;33m\u001b[0m\u001b[0m\n",
      "\u001b[1;31mTIMEOUT\u001b[0m: <pexpect.popen_spawn.PopenSpawn object at 0x000000A71A844748>\nsearcher: searcher_re:\n    0: EOF",
      "\nDuring handling of the above exception, another exception occurred:\n",
      "\u001b[1;31mTIMEOUT\u001b[0m                                   Traceback (most recent call last)",
      "\u001b[1;32m<ipython-input-39-0298da831af3>\u001b[0m in \u001b[0;36m<module>\u001b[1;34m()\u001b[0m\n\u001b[1;32m----> 1\u001b[1;33m \u001b[0mc\u001b[0m\u001b[1;33m.\u001b[0m\u001b[0mflash\u001b[0m\u001b[1;33m(\u001b[0m\u001b[0melfs\u001b[0m\u001b[1;33m=\u001b[0m\u001b[0melfs\u001b[0m\u001b[1;33m)\u001b[0m\u001b[1;33m\u001b[0m\u001b[0m\n\u001b[0m",
      "\u001b[1;32mC:\\Projects\\opensda_flasher\\opensda_flasher\\client.py\u001b[0m in \u001b[0;36mflash\u001b[1;34m(self, elfs)\u001b[0m\n\u001b[0;32m     93\u001b[0m         \u001b[0mprint\u001b[0m\u001b[1;33m(\u001b[0m\u001b[1;34m\"... Done\"\u001b[0m\u001b[1;33m)\u001b[0m\u001b[1;33m\u001b[0m\u001b[0m\n\u001b[0;32m     94\u001b[0m         \u001b[0msys\u001b[0m\u001b[1;33m.\u001b[0m\u001b[0mstdout\u001b[0m\u001b[1;33m.\u001b[0m\u001b[0mflush\u001b[0m\u001b[1;33m(\u001b[0m\u001b[1;33m)\u001b[0m\u001b[1;33m\u001b[0m\u001b[0m\n\u001b[1;32m---> 95\u001b[1;33m         \u001b[0mprint\u001b[0m\u001b[1;33m(\u001b[0m\u001b[0mself\u001b[0m\u001b[1;33m.\u001b[0m\u001b[0mprocess\u001b[0m\u001b[1;33m.\u001b[0m\u001b[0merr\u001b[0m\u001b[1;33m)\u001b[0m\u001b[1;33m\u001b[0m\u001b[0m\n\u001b[0m",
      "\u001b[1;32mc:\\projects\\opensda_flasher\\.venv\\lib\\site-packages\\delegator.py\u001b[0m in \u001b[0;36merr\u001b[1;34m(self)\u001b[0m\n\u001b[0;32m    108\u001b[0m             \u001b[1;32mreturn\u001b[0m \u001b[0mself\u001b[0m\u001b[1;33m.\u001b[0m\u001b[0m__err\u001b[0m\u001b[1;33m\u001b[0m\u001b[0m\n\u001b[0;32m    109\u001b[0m         \u001b[1;32melse\u001b[0m\u001b[1;33m:\u001b[0m\u001b[1;33m\u001b[0m\u001b[0m\n\u001b[1;32m--> 110\u001b[1;33m             \u001b[1;32mreturn\u001b[0m \u001b[0mself\u001b[0m\u001b[1;33m.\u001b[0m\u001b[0m_pexpect_out\u001b[0m\u001b[1;33m\u001b[0m\u001b[0m\n\u001b[0m\u001b[0;32m    111\u001b[0m \u001b[1;33m\u001b[0m\u001b[0m\n\u001b[0;32m    112\u001b[0m     \u001b[1;33m@\u001b[0m\u001b[0mproperty\u001b[0m\u001b[1;33m\u001b[0m\u001b[0m\n",
      "\u001b[1;32mc:\\projects\\opensda_flasher\\.venv\\lib\\site-packages\\delegator.py\u001b[0m in \u001b[0;36m_pexpect_out\u001b[1;34m(self)\u001b[0m\n\u001b[0;32m     78\u001b[0m             \u001b[0mresult\u001b[0m \u001b[1;33m+=\u001b[0m \u001b[0mself\u001b[0m\u001b[1;33m.\u001b[0m\u001b[0msubprocess\u001b[0m\u001b[1;33m.\u001b[0m\u001b[0mafter\u001b[0m\u001b[1;33m\u001b[0m\u001b[0m\n\u001b[0;32m     79\u001b[0m \u001b[1;33m\u001b[0m\u001b[0m\n\u001b[1;32m---> 80\u001b[1;33m         \u001b[0mresult\u001b[0m \u001b[1;33m+=\u001b[0m \u001b[0mself\u001b[0m\u001b[1;33m.\u001b[0m\u001b[0msubprocess\u001b[0m\u001b[1;33m.\u001b[0m\u001b[0mread\u001b[0m\u001b[1;33m(\u001b[0m\u001b[1;33m)\u001b[0m\u001b[1;33m\u001b[0m\u001b[0m\n\u001b[0m\u001b[0;32m     81\u001b[0m         \u001b[1;32mreturn\u001b[0m \u001b[0mresult\u001b[0m\u001b[1;33m\u001b[0m\u001b[0m\n\u001b[0;32m     82\u001b[0m \u001b[1;33m\u001b[0m\u001b[0m\n",
      "\u001b[1;32mc:\\projects\\opensda_flasher\\.venv\\lib\\site-packages\\pexpect\\spawnbase.py\u001b[0m in \u001b[0;36mread\u001b[1;34m(self, size)\u001b[0m\n\u001b[0;32m    411\u001b[0m         \u001b[1;32mif\u001b[0m \u001b[0msize\u001b[0m \u001b[1;33m<\u001b[0m \u001b[1;36m0\u001b[0m\u001b[1;33m:\u001b[0m\u001b[1;33m\u001b[0m\u001b[0m\n\u001b[0;32m    412\u001b[0m             \u001b[1;31m# delimiter default is EOF\u001b[0m\u001b[1;33m\u001b[0m\u001b[1;33m\u001b[0m\u001b[0m\n\u001b[1;32m--> 413\u001b[1;33m             \u001b[0mself\u001b[0m\u001b[1;33m.\u001b[0m\u001b[0mexpect\u001b[0m\u001b[1;33m(\u001b[0m\u001b[0mself\u001b[0m\u001b[1;33m.\u001b[0m\u001b[0mdelimiter\u001b[0m\u001b[1;33m)\u001b[0m\u001b[1;33m\u001b[0m\u001b[0m\n\u001b[0m\u001b[0;32m    414\u001b[0m             \u001b[1;32mreturn\u001b[0m \u001b[0mself\u001b[0m\u001b[1;33m.\u001b[0m\u001b[0mbefore\u001b[0m\u001b[1;33m\u001b[0m\u001b[0m\n\u001b[0;32m    415\u001b[0m \u001b[1;33m\u001b[0m\u001b[0m\n",
      "\u001b[1;32mc:\\projects\\opensda_flasher\\.venv\\lib\\site-packages\\pexpect\\spawnbase.py\u001b[0m in \u001b[0;36mexpect\u001b[1;34m(self, pattern, timeout, searchwindowsize, async)\u001b[0m\n\u001b[0;32m    319\u001b[0m         \u001b[0mcompiled_pattern_list\u001b[0m \u001b[1;33m=\u001b[0m \u001b[0mself\u001b[0m\u001b[1;33m.\u001b[0m\u001b[0mcompile_pattern_list\u001b[0m\u001b[1;33m(\u001b[0m\u001b[0mpattern\u001b[0m\u001b[1;33m)\u001b[0m\u001b[1;33m\u001b[0m\u001b[0m\n\u001b[0;32m    320\u001b[0m         return self.expect_list(compiled_pattern_list,\n\u001b[1;32m--> 321\u001b[1;33m                 timeout, searchwindowsize, async)\n\u001b[0m\u001b[0;32m    322\u001b[0m \u001b[1;33m\u001b[0m\u001b[0m\n\u001b[0;32m    323\u001b[0m     def expect_list(self, pattern_list, timeout=-1, searchwindowsize=-1,\n",
      "\u001b[1;32mc:\\projects\\opensda_flasher\\.venv\\lib\\site-packages\\pexpect\\spawnbase.py\u001b[0m in \u001b[0;36mexpect_list\u001b[1;34m(self, pattern_list, timeout, searchwindowsize, async)\u001b[0m\n\u001b[0;32m    343\u001b[0m             \u001b[1;32mreturn\u001b[0m \u001b[0mexpect_async\u001b[0m\u001b[1;33m(\u001b[0m\u001b[0mexp\u001b[0m\u001b[1;33m,\u001b[0m \u001b[0mtimeout\u001b[0m\u001b[1;33m)\u001b[0m\u001b[1;33m\u001b[0m\u001b[0m\n\u001b[0;32m    344\u001b[0m         \u001b[1;32melse\u001b[0m\u001b[1;33m:\u001b[0m\u001b[1;33m\u001b[0m\u001b[0m\n\u001b[1;32m--> 345\u001b[1;33m             \u001b[1;32mreturn\u001b[0m \u001b[0mexp\u001b[0m\u001b[1;33m.\u001b[0m\u001b[0mexpect_loop\u001b[0m\u001b[1;33m(\u001b[0m\u001b[0mtimeout\u001b[0m\u001b[1;33m)\u001b[0m\u001b[1;33m\u001b[0m\u001b[0m\n\u001b[0m\u001b[0;32m    346\u001b[0m \u001b[1;33m\u001b[0m\u001b[0m\n\u001b[0;32m    347\u001b[0m     def expect_exact(self, pattern_list, timeout=-1, searchwindowsize=-1,\n",
      "\u001b[1;32mc:\\projects\\opensda_flasher\\.venv\\lib\\site-packages\\pexpect\\expect.py\u001b[0m in \u001b[0;36mexpect_loop\u001b[1;34m(self, timeout)\u001b[0m\n\u001b[0;32m    105\u001b[0m             \u001b[1;32mreturn\u001b[0m \u001b[0mself\u001b[0m\u001b[1;33m.\u001b[0m\u001b[0meof\u001b[0m\u001b[1;33m(\u001b[0m\u001b[0me\u001b[0m\u001b[1;33m)\u001b[0m\u001b[1;33m\u001b[0m\u001b[0m\n\u001b[0;32m    106\u001b[0m         \u001b[1;32mexcept\u001b[0m \u001b[0mTIMEOUT\u001b[0m \u001b[1;32mas\u001b[0m \u001b[0me\u001b[0m\u001b[1;33m:\u001b[0m\u001b[1;33m\u001b[0m\u001b[0m\n\u001b[1;32m--> 107\u001b[1;33m             \u001b[1;32mreturn\u001b[0m \u001b[0mself\u001b[0m\u001b[1;33m.\u001b[0m\u001b[0mtimeout\u001b[0m\u001b[1;33m(\u001b[0m\u001b[0me\u001b[0m\u001b[1;33m)\u001b[0m\u001b[1;33m\u001b[0m\u001b[0m\n\u001b[0m\u001b[0;32m    108\u001b[0m         \u001b[1;32mexcept\u001b[0m\u001b[1;33m:\u001b[0m\u001b[1;33m\u001b[0m\u001b[0m\n\u001b[0;32m    109\u001b[0m             \u001b[0mself\u001b[0m\u001b[1;33m.\u001b[0m\u001b[0merrored\u001b[0m\u001b[1;33m(\u001b[0m\u001b[1;33m)\u001b[0m\u001b[1;33m\u001b[0m\u001b[0m\n",
      "\u001b[1;32mc:\\projects\\opensda_flasher\\.venv\\lib\\site-packages\\pexpect\\expect.py\u001b[0m in \u001b[0;36mtimeout\u001b[1;34m(self, err)\u001b[0m\n\u001b[0;32m     68\u001b[0m             \u001b[1;32mif\u001b[0m \u001b[0merr\u001b[0m \u001b[1;32mis\u001b[0m \u001b[1;32mnot\u001b[0m \u001b[1;32mNone\u001b[0m\u001b[1;33m:\u001b[0m\u001b[1;33m\u001b[0m\u001b[0m\n\u001b[0;32m     69\u001b[0m                 \u001b[0mmsg\u001b[0m \u001b[1;33m=\u001b[0m \u001b[0mstr\u001b[0m\u001b[1;33m(\u001b[0m\u001b[0merr\u001b[0m\u001b[1;33m)\u001b[0m \u001b[1;33m+\u001b[0m \u001b[1;34m'\\n'\u001b[0m \u001b[1;33m+\u001b[0m \u001b[0mmsg\u001b[0m\u001b[1;33m\u001b[0m\u001b[0m\n\u001b[1;32m---> 70\u001b[1;33m             \u001b[1;32mraise\u001b[0m \u001b[0mTIMEOUT\u001b[0m\u001b[1;33m(\u001b[0m\u001b[0mmsg\u001b[0m\u001b[1;33m)\u001b[0m\u001b[1;33m\u001b[0m\u001b[0m\n\u001b[0m\u001b[0;32m     71\u001b[0m \u001b[1;33m\u001b[0m\u001b[0m\n\u001b[0;32m     72\u001b[0m     \u001b[1;32mdef\u001b[0m \u001b[0merrored\u001b[0m\u001b[1;33m(\u001b[0m\u001b[0mself\u001b[0m\u001b[1;33m)\u001b[0m\u001b[1;33m:\u001b[0m\u001b[1;33m\u001b[0m\u001b[0m\n",
      "\u001b[1;31mTIMEOUT\u001b[0m: <pexpect.popen_spawn.PopenSpawn object at 0x000000A71A844748>\nsearcher: searcher_re:\n    0: EOF\n<pexpect.popen_spawn.PopenSpawn object at 0x000000A71A844748>\nsearcher: searcher_re:\n    0: EOF"
     ]
    }
   ],
   "source": [
    "c.flash(elfs=elfs)"
   ]
  },
  {
   "cell_type": "code",
   "execution_count": 40,
   "metadata": {},
   "outputs": [],
   "source": [
    "import delegator"
   ]
  },
  {
   "cell_type": "code",
   "execution_count": 48,
   "metadata": {},
   "outputs": [],
   "source": [
    "from time import time"
   ]
  },
  {
   "cell_type": "code",
   "execution_count": 49,
   "metadata": {},
   "outputs": [],
   "source": [
    "t1=time()\n",
    "proc = delegator.run(c.cmd, block=False)"
   ]
  },
  {
   "cell_type": "code",
   "execution_count": 50,
   "metadata": {},
   "outputs": [
    {
     "data": {
      "text/plain": [
       "30"
      ]
     },
     "execution_count": 50,
     "metadata": {},
     "output_type": "execute_result"
    }
   ],
   "source": [
    "proc.timeout"
   ]
  },
  {
   "cell_type": "code",
   "execution_count": 51,
   "metadata": {},
   "outputs": [
    {
     "data": {
      "text/plain": [
       "<pexpect.popen_spawn.PopenSpawn at 0xa71a8e90b8>"
      ]
     },
     "execution_count": 51,
     "metadata": {},
     "output_type": "execute_result"
    }
   ],
   "source": [
    "proc.subprocess"
   ]
  },
  {
   "cell_type": "code",
   "execution_count": 52,
   "metadata": {},
   "outputs": [],
   "source": [
    "t2=time()"
   ]
  },
  {
   "cell_type": "code",
   "execution_count": 54,
   "metadata": {},
   "outputs": [],
   "source": [
    "proc.return_code"
   ]
  },
  {
   "cell_type": "code",
   "execution_count": 55,
   "metadata": {},
   "outputs": [
    {
     "data": {
      "text/plain": [
       "True"
      ]
     },
     "execution_count": 55,
     "metadata": {},
     "output_type": "execute_result"
    }
   ],
   "source": [
    "proc.was_run"
   ]
  },
  {
   "cell_type": "code",
   "execution_count": 56,
   "metadata": {},
   "outputs": [],
   "source": [
    "t1=time()\n",
    "proc = delegator.run(c.cmd, block=False)"
   ]
  },
  {
   "cell_type": "code",
   "execution_count": 58,
   "metadata": {},
   "outputs": [
    {
     "data": {
      "text/plain": [
       "True"
      ]
     },
     "execution_count": 58,
     "metadata": {},
     "output_type": "execute_result"
    }
   ],
   "source": [
    "proc.was_run"
   ]
  },
  {
   "cell_type": "code",
   "execution_count": 59,
   "metadata": {},
   "outputs": [],
   "source": [
    "proc.return_code"
   ]
  },
  {
   "cell_type": "code",
   "execution_count": 64,
   "metadata": {},
   "outputs": [
    {
     "data": {
      "text/plain": [
       "17112"
      ]
     },
     "execution_count": 64,
     "metadata": {},
     "output_type": "execute_result"
    }
   ],
   "source": [
    "proc.pid"
   ]
  },
  {
   "cell_type": "code",
   "execution_count": 61,
   "metadata": {},
   "outputs": [
    {
     "data": {
      "text/plain": [
       "30"
      ]
     },
     "execution_count": 61,
     "metadata": {},
     "output_type": "execute_result"
    }
   ],
   "source": [
    "proc.timeout"
   ]
  },
  {
   "cell_type": "code",
   "execution_count": 63,
   "metadata": {},
   "outputs": [
    {
     "name": "stdout",
     "output_type": "stream",
     "text": [
      "<ipykernel.iostream.OutStream object at 0x000000A71EDF8630>\n"
     ]
    }
   ],
   "source": [
    "print(proc.std_out)"
   ]
  },
  {
   "cell_type": "code",
   "execution_count": 66,
   "metadata": {},
   "outputs": [
    {
     "name": "stdout",
     "output_type": "stream",
     "text": [
      "None\n"
     ]
    }
   ],
   "source": [
    "print(proc.return_code)"
   ]
  },
  {
   "cell_type": "code",
   "execution_count": null,
   "metadata": {},
   "outputs": [],
   "source": []
  },
  {
   "cell_type": "code",
   "execution_count": 67,
   "metadata": {},
   "outputs": [
    {
     "data": {
      "text/plain": [
       "['_Command__err',\n",
       " '_Command__out',\n",
       " '__class__',\n",
       " '__delattr__',\n",
       " '__dict__',\n",
       " '__dir__',\n",
       " '__doc__',\n",
       " '__eq__',\n",
       " '__format__',\n",
       " '__ge__',\n",
       " '__getattribute__',\n",
       " '__gt__',\n",
       " '__hash__',\n",
       " '__init__',\n",
       " '__init_subclass__',\n",
       " '__le__',\n",
       " '__lt__',\n",
       " '__module__',\n",
       " '__ne__',\n",
       " '__new__',\n",
       " '__reduce__',\n",
       " '__reduce_ex__',\n",
       " '__repr__',\n",
       " '__setattr__',\n",
       " '__sizeof__',\n",
       " '__str__',\n",
       " '__subclasshook__',\n",
       " '__weakref__',\n",
       " '_default_pexpect_kwargs',\n",
       " '_default_popen_kwargs',\n",
       " '_pexpect_out',\n",
       " '_popen_args',\n",
       " '_uses_pexpect',\n",
       " '_uses_subprocess',\n",
       " 'block',\n",
       " 'blocking',\n",
       " 'cmd',\n",
       " 'err',\n",
       " 'expect',\n",
       " 'kill',\n",
       " 'out',\n",
       " 'pid',\n",
       " 'pipe',\n",
       " 'return_code',\n",
       " 'run',\n",
       " 'send',\n",
       " 'std_err',\n",
       " 'std_in',\n",
       " 'std_out',\n",
       " 'subprocess',\n",
       " 'terminate',\n",
       " 'timeout',\n",
       " 'was_run']"
      ]
     },
     "execution_count": 67,
     "metadata": {},
     "output_type": "execute_result"
    }
   ],
   "source": [
    "\n",
    "dir(proc)"
   ]
  },
  {
   "cell_type": "code",
   "execution_count": 68,
   "metadata": {},
   "outputs": [],
   "source": [
    "t1=time()\n",
    "proc = delegator.run(command=c.cmd, block=False, timeout=90)\n",
    "proc.block()\n",
    "t2=time()"
   ]
  },
  {
   "cell_type": "code",
   "execution_count": 69,
   "metadata": {},
   "outputs": [
    {
     "data": {
      "text/plain": [
       "57.92455053329468"
      ]
     },
     "execution_count": 69,
     "metadata": {},
     "output_type": "execute_result"
    }
   ],
   "source": [
    "t2-t1"
   ]
  },
  {
   "cell_type": "code",
   "execution_count": 70,
   "metadata": {},
   "outputs": [
    {
     "data": {
      "text/plain": [
       "'C:\\\\NXP\\\\S32DS_Power_v1.2\\\\eclipse\\\\plugins\\\\com.pemicro.debug.gdbjtag.ppc_1.6.9.201706282002\\\\win32\\\\pegdbserver_power_console.exe'"
      ]
     },
     "execution_count": 70,
     "metadata": {},
     "output_type": "execute_result"
    }
   ],
   "source": [
    "s.executable"
   ]
  },
  {
   "cell_type": "code",
   "execution_count": 89,
   "metadata": {},
   "outputs": [],
   "source": [
    "proc = delegator.run(command=[s.executable, '-showhardware'], block=True)"
   ]
  },
  {
   "cell_type": "code",
   "execution_count": 90,
   "metadata": {},
   "outputs": [
    {
     "name": "stdout",
     "output_type": "stream",
     "text": [
      "\n",
      "P&E GDB Server for Power devices, Version 6.44.00.00\n",
      "Copyright 2014, P&E Microcomputer Systems Inc, All rights reserved\n",
      "\n",
      "Loading library C:\\NXP\\S32DS_Power_v1.2\\eclipse\\plugins\\com.pemicro.debug.gdbjtag.ppc_1.6.9.201706282002\\win32\\gdi\\unit_ngs_ppcnexus_internal.dll ... Done.\n",
      "\n",
      "Command line arguments: -showhardware \n",
      "-INTERFACE=OPENSDA        -PORT=41621E79                 ; USB1 : OpenSDA (41621E79)[PortNum=181]\n",
      "-INTERFACE=OPENSDA        -PORT=USB1                     ; USB1 : OpenSDA (41621E79)[PortNum=181][DUPLICATE]\n",
      "-INTERFACE=OPENSDA        -PORT=9CD0CE70                 ; USB2 : OpenSDA (9CD0CE70)[PortNum=182]\n",
      "-INTERFACE=OPENSDA        -PORT=USB2                     ; USB2 : OpenSDA (9CD0CE70)[PortNum=182][DUPLICATE]\n",
      "\n"
     ]
    }
   ],
   "source": [
    "print(proc.out)"
   ]
  },
  {
   "cell_type": "code",
   "execution_count": 96,
   "metadata": {},
   "outputs": [
    {
     "name": "stdout",
     "output_type": "stream",
     "text": [
      "Command line arguments: -showhardware \n",
      "-INTERFACE=OPENSDA        -PORT=41621E79                 ; USB1 : OpenSDA (41621E79)[PortNum=181]\n",
      "-INTERFACE=OPENSDA        -PORT=USB1                     ; USB1 : OpenSDA (41621E79)[PortNum=181][DUPLICATE]\n",
      "-INTERFACE=OPENSDA        -PORT=9CD0CE70                 ; USB2 : OpenSDA (9CD0CE70)[PortNum=182]\n",
      "-INTERFACE=OPENSDA        -PORT=USB2                     ; USB2 : OpenSDA (9CD0CE70)[PortNum=182][DUPLICATE]\n"
     ]
    }
   ],
   "source": [
    "print(proc.out.split('Done.')[-1].strip())"
   ]
  },
  {
   "cell_type": "code",
   "execution_count": 74,
   "metadata": {},
   "outputs": [
    {
     "data": {
      "text/plain": [
       "''"
      ]
     },
     "execution_count": 74,
     "metadata": {},
     "output_type": "execute_result"
    }
   ],
   "source": [
    "proc.out"
   ]
  },
  {
   "cell_type": "code",
   "execution_count": 75,
   "metadata": {},
   "outputs": [
    {
     "data": {
      "text/plain": [
       "True"
      ]
     },
     "execution_count": 75,
     "metadata": {},
     "output_type": "execute_result"
    }
   ],
   "source": [
    "proc.blocking"
   ]
  },
  {
   "cell_type": "code",
   "execution_count": 76,
   "metadata": {},
   "outputs": [
    {
     "data": {
      "text/plain": [
       "''"
      ]
     },
     "execution_count": 76,
     "metadata": {},
     "output_type": "execute_result"
    }
   ],
   "source": [
    "proc.out"
   ]
  },
  {
   "cell_type": "code",
   "execution_count": 80,
   "metadata": {},
   "outputs": [],
   "source": [
    "s.kill()"
   ]
  },
  {
   "cell_type": "code",
   "execution_count": 130,
   "metadata": {},
   "outputs": [],
   "source": [
    "config = read_config()"
   ]
  },
  {
   "cell_type": "code",
   "execution_count": 139,
   "metadata": {},
   "outputs": [],
   "source": [
    "config[\"SERVER\"][\"device\"]=\"MPC5748G\""
   ]
  },
  {
   "cell_type": "code",
   "execution_count": 140,
   "metadata": {},
   "outputs": [],
   "source": [
    "s = Server(config)"
   ]
  },
  {
   "cell_type": "code",
   "execution_count": 141,
   "metadata": {},
   "outputs": [
    {
     "name": "stdout",
     "output_type": "stream",
     "text": [
      "Waiting for GDB servers to complete startup ...... Done\n"
     ]
    }
   ],
   "source": [
    "s.launch()"
   ]
  },
  {
   "cell_type": "code",
   "execution_count": 138,
   "metadata": {
    "scrolled": true
   },
   "outputs": [
    {
     "name": "stdout",
     "output_type": "stream",
     "text": [
      "C:\\NXP\\S32DS_Power_v1.2\\eclipse\\plugins\\com.pemicro.debug.gdbjtag.ppc_1.6.9.201706282002\\win32\\pegdbserver_power_console.exe -startserver -singlesession -interface=OPENSDA -device=MPC5748G -serverport=7224 -speed=5000 -port=USB1\n"
     ]
    }
   ],
   "source": [
    "print(\" \".join(s.cmd))"
   ]
  },
  {
   "cell_type": "code",
   "execution_count": 128,
   "metadata": {},
   "outputs": [],
   "source": [
    "s.kill()"
   ]
  },
  {
   "cell_type": "code",
   "execution_count": 135,
   "metadata": {},
   "outputs": [
    {
     "name": "stdout",
     "output_type": "stream",
     "text": [
      "Waiting for GDB servers to complete startup ..."
     ]
    },
    {
     "ename": "Exception",
     "evalue": "Server exited immediately. Is another C:\\NXP\\S32DS_Power_v1.2\\eclipse\\plugins\\com.pemicro.debug.gdbjtag.ppc_1.6.9.201706282002\\win32\\pegdbserver_power_console.exe instance running?",
     "output_type": "error",
     "traceback": [
      "\u001b[1;31m---------------------------------------------------------------------------\u001b[0m",
      "\u001b[1;31mEOF\u001b[0m                                       Traceback (most recent call last)",
      "\u001b[1;32mc:\\projects\\opensda_flasher\\.venv\\lib\\site-packages\\pexpect\\expect.py\u001b[0m in \u001b[0;36mexpect_loop\u001b[1;34m(self, timeout)\u001b[0m\n\u001b[0;32m     98\u001b[0m                 \u001b[1;31m# Still have time left, so read more data\u001b[0m\u001b[1;33m\u001b[0m\u001b[1;33m\u001b[0m\u001b[0m\n\u001b[1;32m---> 99\u001b[1;33m                 \u001b[0mincoming\u001b[0m \u001b[1;33m=\u001b[0m \u001b[0mspawn\u001b[0m\u001b[1;33m.\u001b[0m\u001b[0mread_nonblocking\u001b[0m\u001b[1;33m(\u001b[0m\u001b[0mspawn\u001b[0m\u001b[1;33m.\u001b[0m\u001b[0mmaxread\u001b[0m\u001b[1;33m,\u001b[0m \u001b[0mtimeout\u001b[0m\u001b[1;33m)\u001b[0m\u001b[1;33m\u001b[0m\u001b[0m\n\u001b[0m\u001b[0;32m    100\u001b[0m                 \u001b[1;32mif\u001b[0m \u001b[0mself\u001b[0m\u001b[1;33m.\u001b[0m\u001b[0mspawn\u001b[0m\u001b[1;33m.\u001b[0m\u001b[0mdelayafterread\u001b[0m \u001b[1;32mis\u001b[0m \u001b[1;32mnot\u001b[0m \u001b[1;32mNone\u001b[0m\u001b[1;33m:\u001b[0m\u001b[1;33m\u001b[0m\u001b[0m\n",
      "\u001b[1;32mc:\\projects\\opensda_flasher\\.venv\\lib\\site-packages\\pexpect\\popen_spawn.py\u001b[0m in \u001b[0;36mread_nonblocking\u001b[1;34m(self, size, timeout)\u001b[0m\n\u001b[0;32m     65\u001b[0m                 \u001b[0mself\u001b[0m\u001b[1;33m.\u001b[0m\u001b[0mflag_eof\u001b[0m \u001b[1;33m=\u001b[0m \u001b[1;32mTrue\u001b[0m\u001b[1;33m\u001b[0m\u001b[0m\n\u001b[1;32m---> 66\u001b[1;33m                 \u001b[1;32mraise\u001b[0m \u001b[0mEOF\u001b[0m\u001b[1;33m(\u001b[0m\u001b[1;34m'End Of File (EOF).'\u001b[0m\u001b[1;33m)\u001b[0m\u001b[1;33m\u001b[0m\u001b[0m\n\u001b[0m\u001b[0;32m     67\u001b[0m \u001b[1;33m\u001b[0m\u001b[0m\n",
      "\u001b[1;31mEOF\u001b[0m: End Of File (EOF).",
      "\nDuring handling of the above exception, another exception occurred:\n",
      "\u001b[1;31mEOF\u001b[0m                                       Traceback (most recent call last)",
      "\u001b[1;32mC:\\Projects\\opensda_flasher\\opensda_flasher\\server.py\u001b[0m in \u001b[0;36mlaunch\u001b[1;34m(self)\u001b[0m\n\u001b[0;32m     55\u001b[0m                                      block=True)\n\u001b[1;32m---> 56\u001b[1;33m \u001b[1;33m\u001b[0m\u001b[0m\n\u001b[0m\u001b[0;32m     57\u001b[0m     \u001b[1;32mdef\u001b[0m \u001b[0mlaunch\u001b[0m\u001b[1;33m(\u001b[0m\u001b[0mself\u001b[0m\u001b[1;33m)\u001b[0m\u001b[1;33m:\u001b[0m\u001b[1;33m\u001b[0m\u001b[0m\n",
      "\u001b[1;32mc:\\projects\\opensda_flasher\\.venv\\lib\\site-packages\\delegator.py\u001b[0m in \u001b[0;36mexpect\u001b[1;34m(self, pattern, timeout)\u001b[0m\n\u001b[0;32m    158\u001b[0m \u001b[1;33m\u001b[0m\u001b[0m\n\u001b[1;32m--> 159\u001b[1;33m         \u001b[0mself\u001b[0m\u001b[1;33m.\u001b[0m\u001b[0msubprocess\u001b[0m\u001b[1;33m.\u001b[0m\u001b[0mexpect\u001b[0m\u001b[1;33m(\u001b[0m\u001b[0mpattern\u001b[0m\u001b[1;33m=\u001b[0m\u001b[0mpattern\u001b[0m\u001b[1;33m,\u001b[0m \u001b[0mtimeout\u001b[0m\u001b[1;33m=\u001b[0m\u001b[0mtimeout\u001b[0m\u001b[1;33m)\u001b[0m\u001b[1;33m\u001b[0m\u001b[0m\n\u001b[0m\u001b[0;32m    160\u001b[0m \u001b[1;33m\u001b[0m\u001b[0m\n",
      "\u001b[1;32mc:\\projects\\opensda_flasher\\.venv\\lib\\site-packages\\pexpect\\spawnbase.py\u001b[0m in \u001b[0;36mexpect\u001b[1;34m(self, pattern, timeout, searchwindowsize, async)\u001b[0m\n\u001b[0;32m    320\u001b[0m         return self.expect_list(compiled_pattern_list,\n\u001b[1;32m--> 321\u001b[1;33m                 timeout, searchwindowsize, async)\n\u001b[0m\u001b[0;32m    322\u001b[0m \u001b[1;33m\u001b[0m\u001b[0m\n",
      "\u001b[1;32mc:\\projects\\opensda_flasher\\.venv\\lib\\site-packages\\pexpect\\spawnbase.py\u001b[0m in \u001b[0;36mexpect_list\u001b[1;34m(self, pattern_list, timeout, searchwindowsize, async)\u001b[0m\n\u001b[0;32m    344\u001b[0m         \u001b[1;32melse\u001b[0m\u001b[1;33m:\u001b[0m\u001b[1;33m\u001b[0m\u001b[0m\n\u001b[1;32m--> 345\u001b[1;33m             \u001b[1;32mreturn\u001b[0m \u001b[0mexp\u001b[0m\u001b[1;33m.\u001b[0m\u001b[0mexpect_loop\u001b[0m\u001b[1;33m(\u001b[0m\u001b[0mtimeout\u001b[0m\u001b[1;33m)\u001b[0m\u001b[1;33m\u001b[0m\u001b[0m\n\u001b[0m\u001b[0;32m    346\u001b[0m \u001b[1;33m\u001b[0m\u001b[0m\n",
      "\u001b[1;32mc:\\projects\\opensda_flasher\\.venv\\lib\\site-packages\\pexpect\\expect.py\u001b[0m in \u001b[0;36mexpect_loop\u001b[1;34m(self, timeout)\u001b[0m\n\u001b[0;32m    104\u001b[0m         \u001b[1;32mexcept\u001b[0m \u001b[0mEOF\u001b[0m \u001b[1;32mas\u001b[0m \u001b[0me\u001b[0m\u001b[1;33m:\u001b[0m\u001b[1;33m\u001b[0m\u001b[0m\n\u001b[1;32m--> 105\u001b[1;33m             \u001b[1;32mreturn\u001b[0m \u001b[0mself\u001b[0m\u001b[1;33m.\u001b[0m\u001b[0meof\u001b[0m\u001b[1;33m(\u001b[0m\u001b[0me\u001b[0m\u001b[1;33m)\u001b[0m\u001b[1;33m\u001b[0m\u001b[0m\n\u001b[0m\u001b[0;32m    106\u001b[0m         \u001b[1;32mexcept\u001b[0m \u001b[0mTIMEOUT\u001b[0m \u001b[1;32mas\u001b[0m \u001b[0me\u001b[0m\u001b[1;33m:\u001b[0m\u001b[1;33m\u001b[0m\u001b[0m\n",
      "\u001b[1;32mc:\\projects\\opensda_flasher\\.venv\\lib\\site-packages\\pexpect\\expect.py\u001b[0m in \u001b[0;36meof\u001b[1;34m(self, err)\u001b[0m\n\u001b[0;32m     49\u001b[0m                 \u001b[0mmsg\u001b[0m \u001b[1;33m=\u001b[0m \u001b[0mstr\u001b[0m\u001b[1;33m(\u001b[0m\u001b[0merr\u001b[0m\u001b[1;33m)\u001b[0m \u001b[1;33m+\u001b[0m \u001b[1;34m'\\n'\u001b[0m \u001b[1;33m+\u001b[0m \u001b[0mmsg\u001b[0m\u001b[1;33m\u001b[0m\u001b[0m\n\u001b[1;32m---> 50\u001b[1;33m             \u001b[1;32mraise\u001b[0m \u001b[0mEOF\u001b[0m\u001b[1;33m(\u001b[0m\u001b[0mmsg\u001b[0m\u001b[1;33m)\u001b[0m\u001b[1;33m\u001b[0m\u001b[0m\n\u001b[0m\u001b[0;32m     51\u001b[0m \u001b[1;33m\u001b[0m\u001b[0m\n",
      "\u001b[1;31mEOF\u001b[0m: End Of File (EOF).\n<pexpect.popen_spawn.PopenSpawn object at 0x000000A71A98A3C8>\nsearcher: searcher_re:\n    0: re.compile(\"All Servers Running\")",
      "\nDuring handling of the above exception, another exception occurred:\n",
      "\u001b[1;31mException\u001b[0m                                 Traceback (most recent call last)",
      "\u001b[1;32m<ipython-input-135-fd790d186b7e>\u001b[0m in \u001b[0;36m<module>\u001b[1;34m()\u001b[0m\n\u001b[1;32m----> 1\u001b[1;33m \u001b[0ms\u001b[0m\u001b[1;33m.\u001b[0m\u001b[0mlaunch\u001b[0m\u001b[1;33m(\u001b[0m\u001b[1;33m)\u001b[0m\u001b[1;33m\u001b[0m\u001b[0m\n\u001b[0m",
      "\u001b[1;32mC:\\Projects\\opensda_flasher\\opensda_flasher\\server.py\u001b[0m in \u001b[0;36mlaunch\u001b[1;34m(self)\u001b[0m\n\u001b[0;32m     59\u001b[0m         \u001b[1;32mtry\u001b[0m\u001b[1;33m:\u001b[0m\u001b[1;33m\u001b[0m\u001b[0m\n\u001b[0;32m     60\u001b[0m             \u001b[0mself\u001b[0m\u001b[1;33m.\u001b[0m\u001b[0mprocess\u001b[0m \u001b[1;33m=\u001b[0m \u001b[0mdelegator\u001b[0m\u001b[1;33m.\u001b[0m\u001b[0mrun\u001b[0m\u001b[1;33m(\u001b[0m\u001b[0mself\u001b[0m\u001b[1;33m.\u001b[0m\u001b[0mcmd\u001b[0m\u001b[1;33m,\u001b[0m \u001b[0mblock\u001b[0m\u001b[1;33m=\u001b[0m\u001b[1;32mFalse\u001b[0m\u001b[1;33m)\u001b[0m\u001b[1;33m\u001b[0m\u001b[0m\n\u001b[1;32m---> 61\u001b[1;33m             \u001b[0mprint\u001b[0m\u001b[1;33m(\u001b[0m\u001b[1;34m\"Waiting for GDB servers to complete startup ...\"\u001b[0m\u001b[1;33m,\u001b[0m \u001b[0mend\u001b[0m\u001b[1;33m=\u001b[0m\u001b[1;34m\"\"\u001b[0m\u001b[1;33m)\u001b[0m\u001b[1;33m\u001b[0m\u001b[0m\n\u001b[0m\u001b[0;32m     62\u001b[0m             \u001b[0msys\u001b[0m\u001b[1;33m.\u001b[0m\u001b[0mstdout\u001b[0m\u001b[1;33m.\u001b[0m\u001b[0mflush\u001b[0m\u001b[1;33m(\u001b[0m\u001b[1;33m)\u001b[0m\u001b[1;33m\u001b[0m\u001b[0m\n\u001b[0;32m     63\u001b[0m             \u001b[1;31m# Look for the \"All Serverns Running\" message from stdout.\u001b[0m\u001b[1;33m\u001b[0m\u001b[1;33m\u001b[0m\u001b[0m\n",
      "\u001b[1;31mException\u001b[0m: Server exited immediately. Is another C:\\NXP\\S32DS_Power_v1.2\\eclipse\\plugins\\com.pemicro.debug.gdbjtag.ppc_1.6.9.201706282002\\win32\\pegdbserver_power_console.exe instance running?"
     ]
    }
   ],
   "source": [
    "s.launch()"
   ]
  },
  {
   "cell_type": "code",
   "execution_count": 102,
   "metadata": {},
   "outputs": [],
   "source": [
    "c = Client(config)"
   ]
  },
  {
   "cell_type": "code",
   "execution_count": 104,
   "metadata": {},
   "outputs": [
    {
     "name": "stdout",
     "output_type": "stream",
     "text": [
      "C:\\NXP\\S32DS_Power_v1.2\\Cross_Tools\\powerpc-eabivle-4_9\\bin\\powerpc-eabivle-gdb.exe --nx --command=C:\\Users\\C3038028\\AppData\\Local\\Temp\\gdb_wrz9y33m.txt\n"
     ]
    }
   ],
   "source": [
    "print(\" \".join(c.cmd))"
   ]
  },
  {
   "cell_type": "code",
   "execution_count": 114,
   "metadata": {},
   "outputs": [
    {
     "data": {
      "text/plain": [
       "['C:\\\\NXP\\\\workspaceS32DS.Power12\\\\ADC_MPC5744P\\\\Debug\\\\ADC_MPC5744P.elf']"
      ]
     },
     "execution_count": 114,
     "metadata": {},
     "output_type": "execute_result"
    }
   ],
   "source": [
    "list(config[\"FLASH\"].values())"
   ]
  },
  {
   "cell_type": "code",
   "execution_count": 117,
   "metadata": {},
   "outputs": [
    {
     "name": "stdout",
     "output_type": "stream",
     "text": [
      "DEBUG: C:\\Users\\C3038028\\AppData\\Local\\Temp\\gdb_wrz9y33m.txt\n"
     ]
    }
   ],
   "source": [
    "c.debug=True\n",
    "c.render(list(config[\"FLASH\"].values()))"
   ]
  },
  {
   "cell_type": "code",
   "execution_count": null,
   "metadata": {},
   "outputs": [],
   "source": [
    "# %load C:\\Users\\C3038028\\AppData\\Local\\Temp\\gdb_wrz9y33m.txt\n",
    "target remote 127.0.0.1:7224\n",
    "\n",
    "set mem inaccessible-by-default off\n",
    "set tcp auto-retry on\n",
    "set tcp connect-timeout 240\n",
    "set remotetimeout 60\n",
    "\n",
    "monitor preserve1 0\n",
    "monitor selectcore 0\n",
    "\n",
    "set architecture powerpc:vle\n",
    "load \"C:\\\\NXP\\\\workspaceS32DS.Power12\\\\ADC_MPC5744P\\\\Debug\\\\ADC_MPC5744P.elf\"\n",
    "continue\n",
    "\n"
   ]
  },
  {
   "cell_type": "code",
   "execution_count": 119,
   "metadata": {},
   "outputs": [],
   "source": [
    "s.kill()"
   ]
  },
  {
   "cell_type": "code",
   "execution_count": null,
   "metadata": {},
   "outputs": [],
   "source": []
  }
 ],
 "metadata": {
  "kernelspec": {
   "display_name": "Python 3",
   "language": "python",
   "name": "python3"
  },
  "language_info": {
   "codemirror_mode": {
    "name": "ipython",
    "version": 3
   },
   "file_extension": ".py",
   "mimetype": "text/x-python",
   "name": "python",
   "nbconvert_exporter": "python",
   "pygments_lexer": "ipython3",
   "version": "3.6.2"
  }
 },
 "nbformat": 4,
 "nbformat_minor": 2
}
