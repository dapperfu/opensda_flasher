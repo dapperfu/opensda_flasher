{
 "cells": [
  {
   "cell_type": "markdown",
   "metadata": {},
   "source": [
    "# Development Notebook\n",
    "\n",
    "I use Jupyter Notebooks as my REPL IDE. I live in [Matlab Code Run](https://www.mathworks.com/help/matlab/matlab_prog/run-sections-of-programs.html) sections. This is the closest I've found."
   ]
  },
  {
   "cell_type": "code",
   "execution_count": 1,
   "metadata": {},
   "outputs": [],
   "source": [
    "from opensda_flasher import *"
   ]
  },
  {
   "cell_type": "code",
   "execution_count": 2,
   "metadata": {},
   "outputs": [],
   "source": [
    "from opensda_flasher import config"
   ]
  },
  {
   "cell_type": "code",
   "execution_count": 3,
   "metadata": {},
   "outputs": [],
   "source": [
    "config = config.read_config()"
   ]
  },
  {
   "cell_type": "code",
   "execution_count": 6,
   "metadata": {},
   "outputs": [],
   "source": [
    "def as_dict(config):\n",
    "    \"\"\"\n",
    "    Converts a ConfigParser object into a dictionary.\n",
    "\n",
    "    The resulting dictionary has sections as keys which point to a dict of the\n",
    "    sections options as key => value pairs.\n",
    "    \"\"\"\n",
    "    the_dict = {}\n",
    "    for section in config.sections():\n",
    "        the_dict[section] = {}\n",
    "        for key, val in config.items(section):\n",
    "            the_dict[section][key] = val\n",
    "    return the_dict"
   ]
  },
  {
   "cell_type": "code",
   "execution_count": 7,
   "metadata": {},
   "outputs": [
    {
     "data": {
      "text/plain": [
       "{'CLIENT': {'exe': 'powerpc-eabivle-gdb.exe',\n",
       "  'platform': 'powerpc-eabivle-4_9'},\n",
       " 'S32': {'root': 'C:\\\\NXP\\\\S32DS_Power_v1.2'},\n",
       " 'SERVER': {'device': 'MPC5744P',\n",
       "  'exe': 'pegdbserver_power_console.exe',\n",
       "  'platform': 'win32',\n",
       "  'plugin': 'com.pemicro.debug.gdbjtag.ppc_1.6.9.201706282002',\n",
       "  'port': 'USB1',\n",
       "  'serverport': '7224',\n",
       "  'speed': '5000'}}"
      ]
     },
     "execution_count": 7,
     "metadata": {},
     "output_type": "execute_result"
    }
   ],
   "source": [
    "as_dict(config)"
   ]
  },
  {
   "cell_type": "code",
   "execution_count": 9,
   "metadata": {},
   "outputs": [],
   "source": [
    "config[\"SERVER\"][\"DEVICE\"]=\"MPC5748G\""
   ]
  },
  {
   "cell_type": "code",
   "execution_count": 10,
   "metadata": {},
   "outputs": [],
   "source": [
    "s = Server(config)"
   ]
  },
  {
   "cell_type": "code",
   "execution_count": null,
   "metadata": {},
   "outputs": [],
   "source": [
    "\n"
   ]
  }
 ],
 "metadata": {
  "kernelspec": {
   "display_name": "Python 3",
   "language": "python",
   "name": "python3"
  },
  "language_info": {
   "codemirror_mode": {
    "name": "ipython",
    "version": 3
   },
   "file_extension": ".py",
   "mimetype": "text/x-python",
   "name": "python",
   "nbconvert_exporter": "python",
   "pygments_lexer": "ipython3",
   "version": "3.6.2"
  }
 },
 "nbformat": 4,
 "nbformat_minor": 2
}
